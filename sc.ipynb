{
  "nbformat": 4,
  "nbformat_minor": 0,
  "metadata": {
    "colab": {
      "name": "sc",
      "provenance": [],
      "collapsed_sections": [],
      "authorship_tag": "ABX9TyP36BkE92wsx2+Gfj8MOA58",
      "include_colab_link": true
    },
    "kernelspec": {
      "name": "python3",
      "display_name": "Python 3"
    }
  },
  "cells": [
    {
      "cell_type": "markdown",
      "metadata": {
        "id": "view-in-github",
        "colab_type": "text"
      },
      "source": [
        "<a href=\"https://colab.research.google.com/github/farhan-najeeb/iris_classification/blob/main/sc.ipynb\" target=\"_parent\"><img src=\"https://colab.research.google.com/assets/colab-badge.svg\" alt=\"Open In Colab\"/></a>"
      ]
    },
    {
      "cell_type": "code",
      "metadata": {
        "id": "EWedPeBjvYUz"
      },
      "source": [
        "from tensorflow.keras.models import Sequential\n",
        "from tensorflow.keras.layers import Dense\n",
        "from tensorflow.keras.utils import to_categorical\n",
        "\n",
        "from sklearn.metrics import confusion_matrix\n",
        "from sklearn.metrics import classification_report\n",
        "from sklearn.datasets import load_iris\n",
        "from sklearn.model_selection import train_test_split\n",
        "from sklearn import preprocessing\n",
        "\n",
        "import pandas as pd\n",
        "import seaborn as sns\n",
        "import numpy as np"
      ],
      "execution_count": 1,
      "outputs": []
    },
    {
      "cell_type": "code",
      "metadata": {
        "id": "2OWkXPWCwz2c"
      },
      "source": [
        "colnames=['sepal length (cm)','sepal width (cm)','petal length (cm)','petal width (cm)','Species']"
      ],
      "execution_count": 2,
      "outputs": []
    },
    {
      "cell_type": "code",
      "metadata": {
        "id": "4bDR1HaqMFvy"
      },
      "source": [
        "iris=pd.read_csv('https://archive.ics.uci.edu/ml/machine-learning-databases/iris/iris.data',header=None,names=colnames)"
      ],
      "execution_count": 3,
      "outputs": []
    },
    {
      "cell_type": "code",
      "metadata": {
        "id": "aSdMn0uaMM9p",
        "outputId": "23b1ccb3-b1ac-4991-8edb-08f9dec67291",
        "colab": {
          "base_uri": "https://localhost:8080/",
          "height": 195
        }
      },
      "source": [
        "iris=iris[iris['Species']!='Iris-virginica']\n",
        "iris.head()"
      ],
      "execution_count": 4,
      "outputs": [
        {
          "output_type": "execute_result",
          "data": {
            "text/html": [
              "<div>\n",
              "<style scoped>\n",
              "    .dataframe tbody tr th:only-of-type {\n",
              "        vertical-align: middle;\n",
              "    }\n",
              "\n",
              "    .dataframe tbody tr th {\n",
              "        vertical-align: top;\n",
              "    }\n",
              "\n",
              "    .dataframe thead th {\n",
              "        text-align: right;\n",
              "    }\n",
              "</style>\n",
              "<table border=\"1\" class=\"dataframe\">\n",
              "  <thead>\n",
              "    <tr style=\"text-align: right;\">\n",
              "      <th></th>\n",
              "      <th>sepal length (cm)</th>\n",
              "      <th>sepal width (cm)</th>\n",
              "      <th>petal length (cm)</th>\n",
              "      <th>petal width (cm)</th>\n",
              "      <th>Species</th>\n",
              "    </tr>\n",
              "  </thead>\n",
              "  <tbody>\n",
              "    <tr>\n",
              "      <th>0</th>\n",
              "      <td>5.1</td>\n",
              "      <td>3.5</td>\n",
              "      <td>1.4</td>\n",
              "      <td>0.2</td>\n",
              "      <td>Iris-setosa</td>\n",
              "    </tr>\n",
              "    <tr>\n",
              "      <th>1</th>\n",
              "      <td>4.9</td>\n",
              "      <td>3.0</td>\n",
              "      <td>1.4</td>\n",
              "      <td>0.2</td>\n",
              "      <td>Iris-setosa</td>\n",
              "    </tr>\n",
              "    <tr>\n",
              "      <th>2</th>\n",
              "      <td>4.7</td>\n",
              "      <td>3.2</td>\n",
              "      <td>1.3</td>\n",
              "      <td>0.2</td>\n",
              "      <td>Iris-setosa</td>\n",
              "    </tr>\n",
              "    <tr>\n",
              "      <th>3</th>\n",
              "      <td>4.6</td>\n",
              "      <td>3.1</td>\n",
              "      <td>1.5</td>\n",
              "      <td>0.2</td>\n",
              "      <td>Iris-setosa</td>\n",
              "    </tr>\n",
              "    <tr>\n",
              "      <th>4</th>\n",
              "      <td>5.0</td>\n",
              "      <td>3.6</td>\n",
              "      <td>1.4</td>\n",
              "      <td>0.2</td>\n",
              "      <td>Iris-setosa</td>\n",
              "    </tr>\n",
              "  </tbody>\n",
              "</table>\n",
              "</div>"
            ],
            "text/plain": [
              "   sepal length (cm)  sepal width (cm)  ...  petal width (cm)      Species\n",
              "0                5.1               3.5  ...               0.2  Iris-setosa\n",
              "1                4.9               3.0  ...               0.2  Iris-setosa\n",
              "2                4.7               3.2  ...               0.2  Iris-setosa\n",
              "3                4.6               3.1  ...               0.2  Iris-setosa\n",
              "4                5.0               3.6  ...               0.2  Iris-setosa\n",
              "\n",
              "[5 rows x 5 columns]"
            ]
          },
          "metadata": {
            "tags": []
          },
          "execution_count": 4
        }
      ]
    },
    {
      "cell_type": "code",
      "metadata": {
        "id": "Bwi_klea7elu",
        "outputId": "faa42a1b-6484-45ee-9e04-870474806fab",
        "colab": {
          "base_uri": "https://localhost:8080/",
          "height": 34
        }
      },
      "source": [
        "iris['Species'].unique()"
      ],
      "execution_count": 5,
      "outputs": [
        {
          "output_type": "execute_result",
          "data": {
            "text/plain": [
              "array(['Iris-setosa', 'Iris-versicolor'], dtype=object)"
            ]
          },
          "metadata": {
            "tags": []
          },
          "execution_count": 5
        }
      ]
    },
    {
      "cell_type": "code",
      "metadata": {
        "id": "9_3nK0bMw3eQ",
        "outputId": "39476b7d-892e-4f11-a685-fd4b4b3dce3b",
        "colab": {
          "base_uri": "https://localhost:8080/",
          "height": 284
        }
      },
      "source": [
        "iris.describe()"
      ],
      "execution_count": 6,
      "outputs": [
        {
          "output_type": "execute_result",
          "data": {
            "text/html": [
              "<div>\n",
              "<style scoped>\n",
              "    .dataframe tbody tr th:only-of-type {\n",
              "        vertical-align: middle;\n",
              "    }\n",
              "\n",
              "    .dataframe tbody tr th {\n",
              "        vertical-align: top;\n",
              "    }\n",
              "\n",
              "    .dataframe thead th {\n",
              "        text-align: right;\n",
              "    }\n",
              "</style>\n",
              "<table border=\"1\" class=\"dataframe\">\n",
              "  <thead>\n",
              "    <tr style=\"text-align: right;\">\n",
              "      <th></th>\n",
              "      <th>sepal length (cm)</th>\n",
              "      <th>sepal width (cm)</th>\n",
              "      <th>petal length (cm)</th>\n",
              "      <th>petal width (cm)</th>\n",
              "    </tr>\n",
              "  </thead>\n",
              "  <tbody>\n",
              "    <tr>\n",
              "      <th>count</th>\n",
              "      <td>100.000000</td>\n",
              "      <td>100.000000</td>\n",
              "      <td>100.000000</td>\n",
              "      <td>100.000000</td>\n",
              "    </tr>\n",
              "    <tr>\n",
              "      <th>mean</th>\n",
              "      <td>5.471000</td>\n",
              "      <td>3.094000</td>\n",
              "      <td>2.862000</td>\n",
              "      <td>0.785000</td>\n",
              "    </tr>\n",
              "    <tr>\n",
              "      <th>std</th>\n",
              "      <td>0.641698</td>\n",
              "      <td>0.476057</td>\n",
              "      <td>1.448565</td>\n",
              "      <td>0.566288</td>\n",
              "    </tr>\n",
              "    <tr>\n",
              "      <th>min</th>\n",
              "      <td>4.300000</td>\n",
              "      <td>2.000000</td>\n",
              "      <td>1.000000</td>\n",
              "      <td>0.100000</td>\n",
              "    </tr>\n",
              "    <tr>\n",
              "      <th>25%</th>\n",
              "      <td>5.000000</td>\n",
              "      <td>2.800000</td>\n",
              "      <td>1.500000</td>\n",
              "      <td>0.200000</td>\n",
              "    </tr>\n",
              "    <tr>\n",
              "      <th>50%</th>\n",
              "      <td>5.400000</td>\n",
              "      <td>3.050000</td>\n",
              "      <td>2.450000</td>\n",
              "      <td>0.800000</td>\n",
              "    </tr>\n",
              "    <tr>\n",
              "      <th>75%</th>\n",
              "      <td>5.900000</td>\n",
              "      <td>3.400000</td>\n",
              "      <td>4.325000</td>\n",
              "      <td>1.300000</td>\n",
              "    </tr>\n",
              "    <tr>\n",
              "      <th>max</th>\n",
              "      <td>7.000000</td>\n",
              "      <td>4.400000</td>\n",
              "      <td>5.100000</td>\n",
              "      <td>1.800000</td>\n",
              "    </tr>\n",
              "  </tbody>\n",
              "</table>\n",
              "</div>"
            ],
            "text/plain": [
              "       sepal length (cm)  sepal width (cm)  petal length (cm)  petal width (cm)\n",
              "count         100.000000        100.000000         100.000000        100.000000\n",
              "mean            5.471000          3.094000           2.862000          0.785000\n",
              "std             0.641698          0.476057           1.448565          0.566288\n",
              "min             4.300000          2.000000           1.000000          0.100000\n",
              "25%             5.000000          2.800000           1.500000          0.200000\n",
              "50%             5.400000          3.050000           2.450000          0.800000\n",
              "75%             5.900000          3.400000           4.325000          1.300000\n",
              "max             7.000000          4.400000           5.100000          1.800000"
            ]
          },
          "metadata": {
            "tags": []
          },
          "execution_count": 6
        }
      ]
    },
    {
      "cell_type": "markdown",
      "metadata": {
        "id": "RRRQnozt4cSI"
      },
      "source": [
        "DATA NORMALIZATION"
      ]
    },
    {
      "cell_type": "code",
      "metadata": {
        "id": "QFv4z9UQ4hGw"
      },
      "source": [
        "X = preprocessing.scale(iris.drop('Species',axis=1))"
      ],
      "execution_count": 7,
      "outputs": []
    },
    {
      "cell_type": "markdown",
      "metadata": {
        "id": "i6VRygBg4sWr"
      },
      "source": [
        "ONE HOT ENCODING"
      ]
    },
    {
      "cell_type": "code",
      "metadata": {
        "id": "0L81eNOj4u67"
      },
      "source": [
        "Y = pd.get_dummies(iris['Species'])"
      ],
      "execution_count": 8,
      "outputs": []
    },
    {
      "cell_type": "code",
      "metadata": {
        "id": "CuGm6dFG42aO",
        "outputId": "0384b614-28de-44c2-b204-c3d98554f898",
        "colab": {
          "base_uri": "https://localhost:8080/",
          "height": 34
        }
      },
      "source": [
        "Y.shape"
      ],
      "execution_count": 9,
      "outputs": [
        {
          "output_type": "execute_result",
          "data": {
            "text/plain": [
              "(100, 2)"
            ]
          },
          "metadata": {
            "tags": []
          },
          "execution_count": 9
        }
      ]
    },
    {
      "cell_type": "markdown",
      "metadata": {
        "id": "FLwlxe8D0oqr"
      },
      "source": [
        "TRAINING"
      ]
    },
    {
      "cell_type": "code",
      "metadata": {
        "id": "ilr9OVGS5_k3",
        "outputId": "2edfdd80-1830-4c31-e0a8-0c0aa9254218",
        "colab": {
          "base_uri": "https://localhost:8080/",
          "height": 721
        }
      },
      "source": [
        "\n",
        "\n",
        "#training data and test data\n",
        "X_train, X_test, Y_train, Y_test = train_test_split(X, Y, test_size=0.2)\n",
        "epoch = 20\n",
        "\n",
        "#model\n",
        "model = Sequential()\n",
        "model.add(Dense(6, input_dim=4, activation='relu'))\n",
        "model.add(Dense(2, activation='softmax'))\n",
        "model.compile(loss='binary_crossentropy', optimizer='RMSprop', metrics=['accuracy'])\n",
        "\n",
        "#fitting the model\n",
        "history = model.fit(X_train, Y_train, validation_data=(X_test, Y_test), epochs=epoch, batch_size=1)"
      ],
      "execution_count": 10,
      "outputs": [
        {
          "output_type": "stream",
          "text": [
            "Epoch 1/20\n",
            "80/80 [==============================] - 0s 3ms/step - loss: 1.0150 - accuracy: 0.4375 - val_loss: 0.7739 - val_accuracy: 0.6000\n",
            "Epoch 2/20\n",
            "80/80 [==============================] - 0s 1ms/step - loss: 0.7656 - accuracy: 0.6375 - val_loss: 0.5489 - val_accuracy: 0.7000\n",
            "Epoch 3/20\n",
            "80/80 [==============================] - 0s 1ms/step - loss: 0.5410 - accuracy: 0.7125 - val_loss: 0.3632 - val_accuracy: 0.8500\n",
            "Epoch 4/20\n",
            "80/80 [==============================] - 0s 1ms/step - loss: 0.3499 - accuracy: 0.8750 - val_loss: 0.2196 - val_accuracy: 0.9500\n",
            "Epoch 5/20\n",
            "80/80 [==============================] - 0s 1ms/step - loss: 0.2024 - accuracy: 1.0000 - val_loss: 0.1269 - val_accuracy: 0.9500\n",
            "Epoch 6/20\n",
            "80/80 [==============================] - 0s 1ms/step - loss: 0.1060 - accuracy: 1.0000 - val_loss: 0.0706 - val_accuracy: 1.0000\n",
            "Epoch 7/20\n",
            "80/80 [==============================] - 0s 1ms/step - loss: 0.0506 - accuracy: 1.0000 - val_loss: 0.0392 - val_accuracy: 1.0000\n",
            "Epoch 8/20\n",
            "80/80 [==============================] - 0s 1ms/step - loss: 0.0244 - accuracy: 1.0000 - val_loss: 0.0211 - val_accuracy: 1.0000\n",
            "Epoch 9/20\n",
            "80/80 [==============================] - 0s 1ms/step - loss: 0.0114 - accuracy: 1.0000 - val_loss: 0.0115 - val_accuracy: 1.0000\n",
            "Epoch 10/20\n",
            "80/80 [==============================] - 0s 1ms/step - loss: 0.0054 - accuracy: 1.0000 - val_loss: 0.0064 - val_accuracy: 1.0000\n",
            "Epoch 11/20\n",
            "80/80 [==============================] - 0s 1ms/step - loss: 0.0023 - accuracy: 1.0000 - val_loss: 0.0034 - val_accuracy: 1.0000\n",
            "Epoch 12/20\n",
            "80/80 [==============================] - 0s 1ms/step - loss: 0.0011 - accuracy: 1.0000 - val_loss: 0.0018 - val_accuracy: 1.0000\n",
            "Epoch 13/20\n",
            "80/80 [==============================] - 0s 1ms/step - loss: 5.2744e-04 - accuracy: 1.0000 - val_loss: 0.0010 - val_accuracy: 1.0000\n",
            "Epoch 14/20\n",
            "80/80 [==============================] - 0s 1ms/step - loss: 2.5501e-04 - accuracy: 1.0000 - val_loss: 5.5479e-04 - val_accuracy: 1.0000\n",
            "Epoch 15/20\n",
            "80/80 [==============================] - 0s 1ms/step - loss: 1.2256e-04 - accuracy: 1.0000 - val_loss: 3.2062e-04 - val_accuracy: 1.0000\n",
            "Epoch 16/20\n",
            "80/80 [==============================] - 0s 1ms/step - loss: 6.1620e-05 - accuracy: 1.0000 - val_loss: 1.7176e-04 - val_accuracy: 1.0000\n",
            "Epoch 17/20\n",
            "80/80 [==============================] - 0s 2ms/step - loss: 3.1730e-05 - accuracy: 1.0000 - val_loss: 1.0466e-04 - val_accuracy: 1.0000\n",
            "Epoch 18/20\n",
            "80/80 [==============================] - 0s 1ms/step - loss: 1.6271e-05 - accuracy: 1.0000 - val_loss: 6.3203e-05 - val_accuracy: 1.0000\n",
            "Epoch 19/20\n",
            "80/80 [==============================] - 0s 1ms/step - loss: 8.4212e-06 - accuracy: 1.0000 - val_loss: 3.5845e-05 - val_accuracy: 1.0000\n",
            "Epoch 20/20\n",
            "80/80 [==============================] - 0s 1ms/step - loss: 4.5177e-06 - accuracy: 1.0000 - val_loss: 2.1943e-05 - val_accuracy: 1.0000\n"
          ],
          "name": "stdout"
        }
      ]
    },
    {
      "cell_type": "code",
      "metadata": {
        "id": "deoGMIUh9rNH",
        "outputId": "278b2050-36c7-4542-e65a-6f690e00eecd",
        "colab": {
          "base_uri": "https://localhost:8080/",
          "height": 295
        }
      },
      "source": [
        "import matplotlib.pyplot as plt\n",
        "\n",
        "loss_train = history.history['loss']\n",
        "loss_val = history.history['val_loss']\n",
        "epochs = range(1,epoch +1)\n",
        "plt.plot(epochs, loss_train, 'g', label='Training loss')\n",
        "plt.plot(epochs, loss_val, 'b', label='validation loss')\n",
        "plt.title('Training and Validation loss')\n",
        "plt.xlabel('Epochs')\n",
        "plt.ylabel('Loss')\n",
        "plt.legend()\n",
        "plt.show()"
      ],
      "execution_count": 11,
      "outputs": [
        {
          "output_type": "display_data",
          "data": {
            "image/png": "[encoded data removed]",
            "text/plain": [
              "<Figure size 432x288 with 1 Axes>"
            ]
          },
          "metadata": {
            "tags": [],
            "needs_background": "light"
          }
        }
      ]
    },
    {
      "cell_type": "code",
      "metadata": {
        "id": "cXkV3mQX9-uh",
        "outputId": "d25639b3-73a6-4e98-f7da-2adf9445ec3e",
        "colab": {
          "base_uri": "https://localhost:8080/",
          "height": 295
        }
      },
      "source": [
        "acc_train = history.history['accuracy']\n",
        "acc_val = history.history['val_accuracy']\n",
        "epochs = range(1,(epoch +1))\n",
        "plt.plot(epochs, acc_train, 'g', label='Training accuracy')\n",
        "plt.plot(epochs, acc_val, 'b', label='validation accuracy')\n",
        "plt.title('Training and Validation accuracy')\n",
        "plt.xlabel('Epochs')\n",
        "plt.ylabel('Accuracy')\n",
        "plt.legend()\n",
        "plt.show()"
      ],
      "execution_count": 12,
      "outputs": [
        {
          "output_type": "display_data",
          "data": {
            "image/png": "[encoded data removed]",
            "text/plain": [
              "<Figure size 432x288 with 1 Axes>"
            ]
          },
          "metadata": {
            "tags": [],
            "needs_background": "light"
          }
        }
      ]
    },
    {
      "cell_type": "code",
      "metadata": {
        "id": "skUvtdRjdSBp"
      },
      "source": [
        "#function to get prediction as species names\n",
        "def get_prediction(X):\n",
        "  y_pred=np.argmax(model.predict(X),axis=1)\n",
        "  Y_pred=['setosa' if x == 0 else 'versicolor' for x in y_pred ]\n",
        "  return(Y_pred)\n",
        "\n",
        "#function to get target value as species names\n",
        "def get_target(Y):\n",
        "  y_test=(np.argmax(Y,axis=1))\n",
        "  Y_target=['setosa' if x == 0 else 'versicolor' for x in y_test ]\n",
        "  return(Y_target)\n"
      ],
      "execution_count": 13,
      "outputs": []
    },
    {
      "cell_type": "code",
      "metadata": {
        "id": "h6V7msXpalkM"
      },
      "source": [
        "y_pred=get_prediction(X_test[:5])"
      ],
      "execution_count": 17,
      "outputs": []
    },
    {
      "cell_type": "code",
      "metadata": {
        "id": "_emI50tUc0h5"
      },
      "source": [
        "y_test=get_target(Y_test[:5].values)"
      ],
      "execution_count": 18,
      "outputs": []
    },
    {
      "cell_type": "code",
      "metadata": {
        "id": "hc-qgy6c_kMe",
        "outputId": "8eb81859-9b9a-4ade-9926-2ca828b9a950",
        "colab": {
          "base_uri": "https://localhost:8080/",
          "height": 175
        }
      },
      "source": [
        "print(classification_report(y_test, y_pred))"
      ],
      "execution_count": 19,
      "outputs": [
        {
          "output_type": "stream",
          "text": [
            "              precision    recall  f1-score   support\n",
            "\n",
            "      setosa       1.00      1.00      1.00         2\n",
            "  versicolor       1.00      1.00      1.00         3\n",
            "\n",
            "    accuracy                           1.00         5\n",
            "   macro avg       1.00      1.00      1.00         5\n",
            "weighted avg       1.00      1.00      1.00         5\n",
            "\n"
          ],
          "name": "stdout"
        }
      ]
    },
    {
      "cell_type": "code",
      "metadata": {
        "id": "FdO1Woy949PT",
        "outputId": "d0286c3e-401b-4ef0-9aa7-286d64f5e6a8",
        "colab": {
          "base_uri": "https://localhost:8080/",
          "height": 286
        }
      },
      "source": [
        "sns.heatmap(confusion_matrix(y_test, y_pred),annot=True,cmap='Blues')"
      ],
      "execution_count": 22,
      "outputs": [
        {
          "output_type": "execute_result",
          "data": {
            "text/plain": [
              "<matplotlib.axes._subplots.AxesSubplot at 0x7fbdc307d400>"
            ]
          },
          "metadata": {
            "tags": []
          },
          "execution_count": 22
        },
        {
          "output_type": "display_data",
          "data": {
            "image/png": "[encoded data removed]",
            "text/plain": [
              "<Figure size 432x288 with 2 Axes>"
            ]
          },
          "metadata": {
            "tags": [],
            "needs_background": "light"
          }
        }
      ]
    },
    {
      "cell_type": "code",
      "metadata": {
        "id": "z0PtNO0Q6YRE"
      },
      "source": [
        ""
      ],
      "execution_count": null,
      "outputs": []
    }
  ]
}