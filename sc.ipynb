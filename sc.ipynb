{
  "nbformat": 4,
  "nbformat_minor": 0,
  "metadata": {
    "colab": {
      "name": "sc",
      "provenance": [],
      "collapsed_sections": [],
      "authorship_tag": "ABX9TyORC8a470fZT/9TSztoywdN",
      "include_colab_link": true
    },
    "kernelspec": {
      "name": "python3",
      "display_name": "Python 3"
    }
  },
  "cells": [
    {
      "cell_type": "markdown",
      "metadata": {
        "id": "view-in-github",
        "colab_type": "text"
      },
      "source": [
        "<a href=\"https://colab.research.google.com/github/farhan-najeeb/iris_classification/blob/main/sc.ipynb\" target=\"_parent\"><img src=\"https://colab.research.google.com/assets/colab-badge.svg\" alt=\"Open In Colab\"/></a>"
      ]
    },
    {
      "cell_type": "code",
      "metadata": {
        "id": "EWedPeBjvYUz"
      },
      "source": [
        "from tensorflow.keras.models import Sequential\n",
        "from tensorflow.keras.layers import Dense\n",
        "from tensorflow.keras.utils import to_categorical\n",
        "\n",
        "from sklearn.datasets import load_iris\n",
        "from sklearn.model_selection import train_test_split\n",
        "from sklearn import preprocessing"
      ],
      "execution_count": null,
      "outputs": []
    },
    {
      "cell_type": "code",
      "metadata": {
        "id": "2OWkXPWCwz2c"
      },
      "source": [
        "import pandas as pd\n",
        "# iris = load_iris()\n",
        "# ir = pd.DataFrame(iris.data)\n",
        "# ir.columns = iris.feature_names\n",
        "# ir['CLASS'] = iris.target\n",
        "# ir.head()\n",
        "colnames=['sepal length (cm)','sepal width (cm)','petal length (cm)','petal width (cm)','Species']"
      ],
      "execution_count": null,
      "outputs": []
    },
    {
      "cell_type": "code",
      "metadata": {
        "id": "4bDR1HaqMFvy"
      },
      "source": [
        "iris=pd.read_csv('https://archive.ics.uci.edu/ml/machine-learning-databases/iris/iris.data',header=None,names=colnames)"
      ],
      "execution_count": null,
      "outputs": []
    },
    {
      "cell_type": "code",
      "metadata": {
        "id": "aSdMn0uaMM9p",
        "outputId": "08d8b3c8-f16c-4638-b3db-0b755ff73dc3",
        "colab": {
          "base_uri": "https://localhost:8080/",
          "height": 195
        }
      },
      "source": [
        "iris=iris[iris['Species']!='Iris-virginica']\n",
        "iris.head()"
      ],
      "execution_count": null,
      "outputs": [
        {
          "output_type": "execute_result",
          "data": {
            "text/html": [
              "<div>\n",
              "<style scoped>\n",
              "    .dataframe tbody tr th:only-of-type {\n",
              "        vertical-align: middle;\n",
              "    }\n",
              "\n",
              "    .dataframe tbody tr th {\n",
              "        vertical-align: top;\n",
              "    }\n",
              "\n",
              "    .dataframe thead th {\n",
              "        text-align: right;\n",
              "    }\n",
              "</style>\n",
              "<table border=\"1\" class=\"dataframe\">\n",
              "  <thead>\n",
              "    <tr style=\"text-align: right;\">\n",
              "      <th></th>\n",
              "      <th>sepal length (cm)</th>\n",
              "      <th>sepal width (cm)</th>\n",
              "      <th>petal length (cm)</th>\n",
              "      <th>petal width (cm)</th>\n",
              "      <th>Species</th>\n",
              "    </tr>\n",
              "  </thead>\n",
              "  <tbody>\n",
              "    <tr>\n",
              "      <th>0</th>\n",
              "      <td>5.1</td>\n",
              "      <td>3.5</td>\n",
              "      <td>1.4</td>\n",
              "      <td>0.2</td>\n",
              "      <td>Iris-setosa</td>\n",
              "    </tr>\n",
              "    <tr>\n",
              "      <th>1</th>\n",
              "      <td>4.9</td>\n",
              "      <td>3.0</td>\n",
              "      <td>1.4</td>\n",
              "      <td>0.2</td>\n",
              "      <td>Iris-setosa</td>\n",
              "    </tr>\n",
              "    <tr>\n",
              "      <th>2</th>\n",
              "      <td>4.7</td>\n",
              "      <td>3.2</td>\n",
              "      <td>1.3</td>\n",
              "      <td>0.2</td>\n",
              "      <td>Iris-setosa</td>\n",
              "    </tr>\n",
              "    <tr>\n",
              "      <th>3</th>\n",
              "      <td>4.6</td>\n",
              "      <td>3.1</td>\n",
              "      <td>1.5</td>\n",
              "      <td>0.2</td>\n",
              "      <td>Iris-setosa</td>\n",
              "    </tr>\n",
              "    <tr>\n",
              "      <th>4</th>\n",
              "      <td>5.0</td>\n",
              "      <td>3.6</td>\n",
              "      <td>1.4</td>\n",
              "      <td>0.2</td>\n",
              "      <td>Iris-setosa</td>\n",
              "    </tr>\n",
              "  </tbody>\n",
              "</table>\n",
              "</div>"
            ],
            "text/plain": [
              "   sepal length (cm)  sepal width (cm)  ...  petal width (cm)      Species\n",
              "0                5.1               3.5  ...               0.2  Iris-setosa\n",
              "1                4.9               3.0  ...               0.2  Iris-setosa\n",
              "2                4.7               3.2  ...               0.2  Iris-setosa\n",
              "3                4.6               3.1  ...               0.2  Iris-setosa\n",
              "4                5.0               3.6  ...               0.2  Iris-setosa\n",
              "\n",
              "[5 rows x 5 columns]"
            ]
          },
          "metadata": {
            "tags": []
          },
          "execution_count": 4
        }
      ]
    },
    {
      "cell_type": "code",
      "metadata": {
        "id": "Bwi_klea7elu",
        "outputId": "b2e8375b-03e0-43af-d7a5-30af40d19b7d",
        "colab": {
          "base_uri": "https://localhost:8080/",
          "height": 34
        }
      },
      "source": [
        "iris['Species'].unique()"
      ],
      "execution_count": null,
      "outputs": [
        {
          "output_type": "execute_result",
          "data": {
            "text/plain": [
              "array(['Iris-setosa', 'Iris-versicolor'], dtype=object)"
            ]
          },
          "metadata": {
            "tags": []
          },
          "execution_count": 5
        }
      ]
    },
    {
      "cell_type": "code",
      "metadata": {
        "id": "9_3nK0bMw3eQ",
        "outputId": "8a44660d-a9c3-418d-a128-f037f4ef22de",
        "colab": {
          "base_uri": "https://localhost:8080/",
          "height": 284
        }
      },
      "source": [
        "iris.describe()"
      ],
      "execution_count": null,
      "outputs": [
        {
          "output_type": "execute_result",
          "data": {
            "text/html": [
              "<div>\n",
              "<style scoped>\n",
              "    .dataframe tbody tr th:only-of-type {\n",
              "        vertical-align: middle;\n",
              "    }\n",
              "\n",
              "    .dataframe tbody tr th {\n",
              "        vertical-align: top;\n",
              "    }\n",
              "\n",
              "    .dataframe thead th {\n",
              "        text-align: right;\n",
              "    }\n",
              "</style>\n",
              "<table border=\"1\" class=\"dataframe\">\n",
              "  <thead>\n",
              "    <tr style=\"text-align: right;\">\n",
              "      <th></th>\n",
              "      <th>sepal length (cm)</th>\n",
              "      <th>sepal width (cm)</th>\n",
              "      <th>petal length (cm)</th>\n",
              "      <th>petal width (cm)</th>\n",
              "    </tr>\n",
              "  </thead>\n",
              "  <tbody>\n",
              "    <tr>\n",
              "      <th>count</th>\n",
              "      <td>100.000000</td>\n",
              "      <td>100.000000</td>\n",
              "      <td>100.000000</td>\n",
              "      <td>100.000000</td>\n",
              "    </tr>\n",
              "    <tr>\n",
              "      <th>mean</th>\n",
              "      <td>5.471000</td>\n",
              "      <td>3.094000</td>\n",
              "      <td>2.862000</td>\n",
              "      <td>0.785000</td>\n",
              "    </tr>\n",
              "    <tr>\n",
              "      <th>std</th>\n",
              "      <td>0.641698</td>\n",
              "      <td>0.476057</td>\n",
              "      <td>1.448565</td>\n",
              "      <td>0.566288</td>\n",
              "    </tr>\n",
              "    <tr>\n",
              "      <th>min</th>\n",
              "      <td>4.300000</td>\n",
              "      <td>2.000000</td>\n",
              "      <td>1.000000</td>\n",
              "      <td>0.100000</td>\n",
              "    </tr>\n",
              "    <tr>\n",
              "      <th>25%</th>\n",
              "      <td>5.000000</td>\n",
              "      <td>2.800000</td>\n",
              "      <td>1.500000</td>\n",
              "      <td>0.200000</td>\n",
              "    </tr>\n",
              "    <tr>\n",
              "      <th>50%</th>\n",
              "      <td>5.400000</td>\n",
              "      <td>3.050000</td>\n",
              "      <td>2.450000</td>\n",
              "      <td>0.800000</td>\n",
              "    </tr>\n",
              "    <tr>\n",
              "      <th>75%</th>\n",
              "      <td>5.900000</td>\n",
              "      <td>3.400000</td>\n",
              "      <td>4.325000</td>\n",
              "      <td>1.300000</td>\n",
              "    </tr>\n",
              "    <tr>\n",
              "      <th>max</th>\n",
              "      <td>7.000000</td>\n",
              "      <td>4.400000</td>\n",
              "      <td>5.100000</td>\n",
              "      <td>1.800000</td>\n",
              "    </tr>\n",
              "  </tbody>\n",
              "</table>\n",
              "</div>"
            ],
            "text/plain": [
              "       sepal length (cm)  sepal width (cm)  petal length (cm)  petal width (cm)\n",
              "count         100.000000        100.000000         100.000000        100.000000\n",
              "mean            5.471000          3.094000           2.862000          0.785000\n",
              "std             0.641698          0.476057           1.448565          0.566288\n",
              "min             4.300000          2.000000           1.000000          0.100000\n",
              "25%             5.000000          2.800000           1.500000          0.200000\n",
              "50%             5.400000          3.050000           2.450000          0.800000\n",
              "75%             5.900000          3.400000           4.325000          1.300000\n",
              "max             7.000000          4.400000           5.100000          1.800000"
            ]
          },
          "metadata": {
            "tags": []
          },
          "execution_count": 6
        }
      ]
    },
    {
      "cell_type": "markdown",
      "metadata": {
        "id": "RRRQnozt4cSI"
      },
      "source": [
        "DATA NORMALIZATION"
      ]
    },
    {
      "cell_type": "code",
      "metadata": {
        "id": "QFv4z9UQ4hGw"
      },
      "source": [
        "X = preprocessing.scale(iris.drop('Species',axis=1))"
      ],
      "execution_count": null,
      "outputs": []
    },
    {
      "cell_type": "markdown",
      "metadata": {
        "id": "i6VRygBg4sWr"
      },
      "source": [
        "ONE HOT ENCODING"
      ]
    },
    {
      "cell_type": "code",
      "metadata": {
        "id": "0L81eNOj4u67"
      },
      "source": [
        "Y = pd.get_dummies(iris['Species'])"
      ],
      "execution_count": null,
      "outputs": []
    },
    {
      "cell_type": "code",
      "metadata": {
        "id": "CuGm6dFG42aO",
        "outputId": "507b27cb-b0c9-4efd-9f2a-18c884991363",
        "colab": {
          "base_uri": "https://localhost:8080/",
          "height": 34
        }
      },
      "source": [
        "Y.shape"
      ],
      "execution_count": null,
      "outputs": [
        {
          "output_type": "execute_result",
          "data": {
            "text/plain": [
              "(100, 2)"
            ]
          },
          "metadata": {
            "tags": []
          },
          "execution_count": 9
        }
      ]
    },
    {
      "cell_type": "markdown",
      "metadata": {
        "id": "FLwlxe8D0oqr"
      },
      "source": [
        "TRAINING"
      ]
    },
    {
      "cell_type": "code",
      "metadata": {
        "id": "ilr9OVGS5_k3",
        "outputId": "fcd63747-bbfc-41a7-8a5c-da7d57b793d8",
        "colab": {
          "base_uri": "https://localhost:8080/",
          "height": 721
        }
      },
      "source": [
        "\n",
        "\n",
        "#training data and test data\n",
        "X_train, X_test, Y_train, Y_test = train_test_split(X, Y, test_size=0.2)\n",
        "epoch = 20\n",
        "\n",
        "#model\n",
        "model = Sequential()\n",
        "model.add(Dense(6, input_dim=4, activation='relu'))\n",
        "model.add(Dense(2, activation='softmax'))\n",
        "model.compile(loss='binary_crossentropy', optimizer='RMSprop', metrics=['accuracy'])\n",
        "\n",
        "#fitting the model\n",
        "history = model.fit(X_train, Y_train, validation_data=(X_test, Y_test), epochs=epoch, batch_size=1)"
      ],
      "execution_count": null,
      "outputs": [
        {
          "output_type": "stream",
          "text": [
            "Epoch 1/20\n",
            "80/80 [==============================] - 0s 3ms/step - loss: 0.6868 - accuracy: 0.6750 - val_loss: 0.5949 - val_accuracy: 0.8000\n",
            "Epoch 2/20\n",
            "80/80 [==============================] - 0s 1ms/step - loss: 0.5072 - accuracy: 0.9000 - val_loss: 0.4384 - val_accuracy: 0.9500\n",
            "Epoch 3/20\n",
            "80/80 [==============================] - 0s 1ms/step - loss: 0.3391 - accuracy: 1.0000 - val_loss: 0.3005 - val_accuracy: 0.9500\n",
            "Epoch 4/20\n",
            "80/80 [==============================] - 0s 1ms/step - loss: 0.2069 - accuracy: 1.0000 - val_loss: 0.1996 - val_accuracy: 0.9500\n",
            "Epoch 5/20\n",
            "80/80 [==============================] - 0s 1ms/step - loss: 0.1172 - accuracy: 1.0000 - val_loss: 0.1265 - val_accuracy: 0.9500\n",
            "Epoch 6/20\n",
            "80/80 [==============================] - 0s 1ms/step - loss: 0.0625 - accuracy: 1.0000 - val_loss: 0.0776 - val_accuracy: 1.0000\n",
            "Epoch 7/20\n",
            "80/80 [==============================] - 0s 1ms/step - loss: 0.0318 - accuracy: 1.0000 - val_loss: 0.0463 - val_accuracy: 1.0000\n",
            "Epoch 8/20\n",
            "80/80 [==============================] - 0s 1ms/step - loss: 0.0164 - accuracy: 1.0000 - val_loss: 0.0283 - val_accuracy: 1.0000\n",
            "Epoch 9/20\n",
            "80/80 [==============================] - 0s 1ms/step - loss: 0.0085 - accuracy: 1.0000 - val_loss: 0.0169 - val_accuracy: 1.0000\n",
            "Epoch 10/20\n",
            "80/80 [==============================] - 0s 1ms/step - loss: 0.0047 - accuracy: 1.0000 - val_loss: 0.0103 - val_accuracy: 1.0000\n",
            "Epoch 11/20\n",
            "80/80 [==============================] - 0s 1ms/step - loss: 0.0026 - accuracy: 1.0000 - val_loss: 0.0063 - val_accuracy: 1.0000\n",
            "Epoch 12/20\n",
            "80/80 [==============================] - 0s 1ms/step - loss: 0.0016 - accuracy: 1.0000 - val_loss: 0.0039 - val_accuracy: 1.0000\n",
            "Epoch 13/20\n",
            "80/80 [==============================] - 0s 1ms/step - loss: 9.3066e-04 - accuracy: 1.0000 - val_loss: 0.0025 - val_accuracy: 1.0000\n",
            "Epoch 14/20\n",
            "80/80 [==============================] - 0s 1ms/step - loss: 6.1800e-04 - accuracy: 1.0000 - val_loss: 0.0017 - val_accuracy: 1.0000\n",
            "Epoch 15/20\n",
            "80/80 [==============================] - 0s 1ms/step - loss: 4.0740e-04 - accuracy: 1.0000 - val_loss: 0.0011 - val_accuracy: 1.0000\n",
            "Epoch 16/20\n",
            "80/80 [==============================] - 0s 1ms/step - loss: 2.8747e-04 - accuracy: 1.0000 - val_loss: 7.5254e-04 - val_accuracy: 1.0000\n",
            "Epoch 17/20\n",
            "80/80 [==============================] - 0s 1ms/step - loss: 2.1637e-04 - accuracy: 1.0000 - val_loss: 5.5831e-04 - val_accuracy: 1.0000\n",
            "Epoch 18/20\n",
            "80/80 [==============================] - 0s 1ms/step - loss: 1.6603e-04 - accuracy: 1.0000 - val_loss: 4.1485e-04 - val_accuracy: 1.0000\n",
            "Epoch 19/20\n",
            "80/80 [==============================] - 0s 1ms/step - loss: 1.1957e-04 - accuracy: 1.0000 - val_loss: 3.1833e-04 - val_accuracy: 1.0000\n",
            "Epoch 20/20\n",
            "80/80 [==============================] - 0s 1ms/step - loss: 8.6411e-05 - accuracy: 1.0000 - val_loss: 2.4522e-04 - val_accuracy: 1.0000\n"
          ],
          "name": "stdout"
        }
      ]
    },
    {
      "cell_type": "code",
      "metadata": {
        "id": "deoGMIUh9rNH",
        "outputId": "4817f8fa-52f1-4656-eb0a-758b6e022c40",
        "colab": {
          "base_uri": "https://localhost:8080/",
          "height": 295
        }
      },
      "source": [
        "import matplotlib.pyplot as plt\n",
        "\n",
        "loss_train = history.history['loss']\n",
        "loss_val = history.history['val_loss']\n",
        "epochs = range(1,epoch +1)\n",
        "plt.plot(epochs, loss_train, 'g', label='Training loss')\n",
        "plt.plot(epochs, loss_val, 'b', label='validation loss')\n",
        "plt.title('Training and Validation loss')\n",
        "plt.xlabel('Epochs')\n",
        "plt.ylabel('Loss')\n",
        "plt.legend()\n",
        "plt.show()"
      ],
      "execution_count": null,
      "outputs": [
        {
          "output_type": "display_data",
          "data": {
            "image/png": "[encoded data removed]",
            "text/plain": [
              "<Figure size 432x288 with 1 Axes>"
            ]
          },
          "metadata": {
            "tags": [],
            "needs_background": "light"
          }
        }
      ]
    },
    {
      "cell_type": "code",
      "metadata": {
        "id": "cXkV3mQX9-uh",
        "outputId": "b10a28ff-6ede-4307-cae2-38e1b7a25125",
        "colab": {
          "base_uri": "https://localhost:8080/",
          "height": 295
        }
      },
      "source": [
        "acc_train = history.history['accuracy']\n",
        "acc_val = history.history['val_accuracy']\n",
        "epochs = range(1,(epoch +1))\n",
        "plt.plot(epochs, acc_train, 'g', label='Training accuracy')\n",
        "plt.plot(epochs, acc_val, 'b', label='validation accuracy')\n",
        "plt.title('Training and Validation accuracy')\n",
        "plt.xlabel('Epochs')\n",
        "plt.ylabel('Accuracy')\n",
        "plt.legend()\n",
        "plt.show()"
      ],
      "execution_count": null,
      "outputs": [
        {
          "output_type": "display_data",
          "data": {
            "image/png": "[encoded data removed]",
            "text/plain": [
              "<Figure size 432x288 with 1 Axes>"
            ]
          },
          "metadata": {
            "tags": [],
            "needs_background": "light"
          }
        }
      ]
    },
    {
      "cell_type": "code",
      "metadata": {
        "id": "skUvtdRjdSBp",
        "outputId": "06f84b56-45bc-4764-ce18-4dd95a22305f",
        "colab": {
          "base_uri": "https://localhost:8080/",
          "height": 52
        }
      },
      "source": [
        "# def get_prediction(X):\n",
        "import numpy as np\n",
        "#   X = preprocessing.scale(X)\n",
        "#   # Y = np.argmax(model.predict(X))\n",
        "#   Y=model.predict_classes(X)\n",
        "print(np.argmax(model.predict(X_test[4:5]),axis=1))\n",
        "# print(model.predict(X_test[3:4]))\n",
        "print(Y_test[4:5].values)\n",
        "  # def numbers_to_strings(argument):\n",
        "  #   switcher = { \n",
        "  #        0:\"setosa\", \n",
        "  #        1:\"versicolor\",  \n",
        "  #        }  \n",
        "  #   return switcher.get(argument, \"nothing\")\n",
        "  # print(numbers_to_strings(Y))"
      ],
      "execution_count": null,
      "outputs": [
        {
          "output_type": "stream",
          "text": [
            "[0]\n",
            "[[1 0]]\n"
          ],
          "name": "stdout"
        }
      ]
    },
    {
      "cell_type": "code",
      "metadata": {
        "id": "iX4UAOiTFkFi"
      },
      "source": [
        "Y_test[:5]"
      ],
      "execution_count": null,
      "outputs": []
    },
    {
      "cell_type": "code",
      "metadata": {
        "id": "h6V7msXpalkM"
      },
      "source": [
        "get_prediction([[7.0,3.2,4.7,1.4]])"
      ],
      "execution_count": null,
      "outputs": []
    },
    {
      "cell_type": "code",
      "metadata": {
        "id": "_emI50tUc0h5"
      },
      "source": [
        "get_prediction([[6.3,3.3,6.0,2.5]])"
      ],
      "execution_count": null,
      "outputs": []
    },
    {
      "cell_type": "code",
      "metadata": {
        "id": "hc-qgy6c_kMe"
      },
      "source": [
        "5.1\t3.5\t1.4\t0.2"
      ],
      "execution_count": null,
      "outputs": []
    }
  ]
}